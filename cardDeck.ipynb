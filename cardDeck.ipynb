{
 "cells": [
  {
   "cell_type": "markdown",
   "metadata": {},
   "source": [
    "# A deck of cards contains 52 cards starts from A(1) to K with\n",
    "# 4 suits which are clubs (♣), diamonds (♦), hearts (♥), and spades (♠)\n",
    "# A 2 3 4 5 6 7 8 9 10 J Q K\n",
    "# PART 1\n",
    "# Try building a new deck and print the deck.\n",
    "# example => deck = [\"A♣\",\"2♣\",...,\"K♠\"] (52 elements)"
   ]
  },
  {
   "cell_type": "code",
   "execution_count": 379,
   "metadata": {},
   "outputs": [
    {
     "name": "stdout",
     "output_type": "stream",
     "text": [
      "['A', '2', '3', '4', '5', '6', '7', '8', '9', '10', 'J', 'Q', 'K']\n",
      "['♣', '♦', '♥', '♠']\n"
     ]
    }
   ],
   "source": [
    "# create tuple of number and type of card then plite with comma\n",
    "\n",
    "number = (\"A 2 3 4 5 6 7 8 9 10 J Q K\").split()\n",
    "deck = []\n",
    "clubs = ('♣ ♦ ♥ ♠').split()\n",
    "\n",
    "print(number)\n",
    "print(clubs)"
   ]
  },
  {
   "cell_type": "markdown",
   "metadata": {},
   "source": [
    "# example => deck = [\"A♣\",\"2♣\",...,\"K♠\"] (52 elements)"
   ]
  },
  {
   "cell_type": "code",
   "execution_count": 380,
   "metadata": {},
   "outputs": [
    {
     "name": "stdout",
     "output_type": "stream",
     "text": [
      "A♣\n",
      "2♣\n",
      "3♣\n",
      "4♣\n",
      "5♣\n",
      "6♣\n",
      "7♣\n",
      "8♣\n",
      "9♣\n",
      "10♣\n",
      "J♣\n",
      "Q♣\n",
      "K♣\n",
      "A♦\n",
      "2♦\n",
      "3♦\n",
      "4♦\n",
      "5♦\n",
      "6♦\n",
      "7♦\n",
      "8♦\n",
      "9♦\n",
      "10♦\n",
      "J♦\n",
      "Q♦\n",
      "K♦\n",
      "A♥\n",
      "2♥\n",
      "3♥\n",
      "4♥\n",
      "5♥\n",
      "6♥\n",
      "7♥\n",
      "8♥\n",
      "9♥\n",
      "10♥\n",
      "J♥\n",
      "Q♥\n",
      "K♥\n",
      "A♠\n",
      "2♠\n",
      "3♠\n",
      "4♠\n",
      "5♠\n",
      "6♠\n",
      "7♠\n",
      "8♠\n",
      "9♠\n",
      "10♠\n",
      "J♠\n",
      "Q♠\n",
      "K♠\n",
      "52\n"
     ]
    }
   ],
   "source": [
    "# Write your code here...\n",
    "\n",
    "def newDeck():\n",
    "  for i in clubs:\n",
    "    for j in number:\n",
    "      print(j + i)\n",
    "      deck.append(j + i)\n",
    "  return deck\n",
    "\n",
    "newDeck()\n",
    "print(len(deck))"
   ]
  },
  {
   "cell_type": "markdown",
   "metadata": {},
   "source": [
    "# PART 2\n",
    "# Shuffle the deck"
   ]
  },
  {
   "cell_type": "code",
   "execution_count": 381,
   "metadata": {},
   "outputs": [
    {
     "name": "stdout",
     "output_type": "stream",
     "text": [
      "['J♥', 'Q♥', '3♣', '4♥', 'Q♣', '4♠', '6♦', '10♦', 'J♣', 'A♠', '6♥', '8♥', '10♠', '9♥', '10♣', '5♦', 'J♦', '9♦', '5♠', '5♣', 'A♦', '2♠', '8♣', '3♥', 'K♣', 'K♦', '3♦', '7♠', '7♣', '3♠', '4♣', '8♠', '2♣', '7♦', '7♥', '6♣', 'J♠', '2♥', '2♦', '9♣', '10♥', 'Q♦', 'Q♠', 'A♣', '4♦', '6♠', 'K♠', '9♠', '8♦', 'A♥', 'K♥', '5♥']\n"
     ]
    }
   ],
   "source": [
    "# write your code here...\n",
    "import random\n",
    "\n",
    "def shuffle(): \n",
    "    random.shuffle(deck)\n",
    "    # print(deck)\n",
    "    return deck\n",
    "\n",
    "deck = shuffle()\n",
    "print(deck)\n"
   ]
  },
  {
   "cell_type": "markdown",
   "metadata": {},
   "source": [
    "# PART 3\n",
    "\n",
    "# Write a draw function that returns top of the deck, print number of the remaining card and add it to hand and dont forget to sort hand."
   ]
  },
  {
   "cell_type": "code",
   "execution_count": 382,
   "metadata": {},
   "outputs": [],
   "source": [
    "hand = []\n",
    "def toNum(z):\n",
    "    if z == 'A':\n",
    "        return '1'\n",
    "    elif z == '1':\n",
    "        return '10'\n",
    "    elif z == 'J':\n",
    "        return '11'\n",
    "    elif z == 'Q':\n",
    "        return '12'\n",
    "    else:\n",
    "        return '13'\n",
    "\n",
    "def draw():\n",
    "    try:\n",
    "        top = deck.pop(-1)\n",
    "    except: \n",
    "        print(\"No card left\")\n",
    "    else:\n",
    "        for i in range(len(hand)):\n",
    "            x = hand[i][0]\n",
    "            y = top[0]\n",
    "\n",
    "            if x in ['1','A','J','Q','K']:\n",
    "                x = toNum(x)\n",
    "            if y in ['1','A','J','Q','K']:\n",
    "                y = toNum(y)\n",
    "            \n",
    "            if int(x) >= int(y):\n",
    "                hand.insert(i,top)\n",
    "                print(\"Top =\", top)\n",
    "                break\n",
    "        else:\n",
    "            hand.append(top)\n",
    "\n",
    "        print(\"Number of remaining cards =\", len(deck))\n",
    "        return top\n"
   ]
  },
  {
   "cell_type": "code",
   "execution_count": 393,
   "metadata": {},
   "outputs": [
    {
     "name": "stdout",
     "output_type": "stream",
     "text": [
      "Top = Q♦\n",
      "Number of remaining cards = 41\n",
      "['A♣', 'A♥', '4♦', '5♥', '6♠', '8♦', '9♠', 'Q♦', 'Q♠', 'K♠', 'K♥']\n"
     ]
    }
   ],
   "source": [
    "draw()\n",
    "print(hand)\n",
    "#hand = [1]\n",
    "#top = 5\n"
   ]
  },
  {
   "cell_type": "code",
   "execution_count": 395,
   "metadata": {},
   "outputs": [
    {
     "name": "stdout",
     "output_type": "stream",
     "text": [
      "deck ['J♥', 'Q♥', '3♣', '4♥', 'Q♣', '4♠', '6♦', '10♦', 'J♣', 'A♠', '6♥', '8♥', '10♠', '9♥', '10♣', '5♦', 'J♦', '9♦', '5♠', '5♣', 'A♦', '2♠', '8♣', '3♥', 'K♣', 'K♦', '3♦', '7♠', '7♣', '3♠', '4♣', '8♠', '2♣', '7♦', '7♥', '6♣', 'J♠', '2♥', '2♦', '9♣', '10♥']\n",
      "hand ['A♣', 'A♥', '4♦', '5♥', '6♠', '8♦', '9♠', 'Q♦', 'Q♠', 'K♠', 'K♥']\n",
      "deck ['J♥', 'Q♥', '3♣', '4♥', 'Q♣', '4♠', '6♦', '10♦', 'J♣', 'A♠', '6♥', '8♥', '10♠', '9♥', '10♣', '5♦', 'J♦', '9♦', '5♠', '5♣', 'A♦', '2♠', '8♣', '3♥', 'K♣', 'K♦', '3♦', '7♠', '7♣', '3♠', '4♣', '8♠', '2♣', '7♦', '7♥', '6♣', 'J♠', '2♥', '2♦', '9♣', '10♥', 'A♣', 'A♥', '4♦', '5♥', '6♠', '8♦', '9♠', 'Q♦', 'Q♠', 'K♠', 'K♥']\n",
      "hand []\n"
     ]
    }
   ],
   "source": [
    "def handToDeck():\n",
    "  global hand\n",
    "  global deck\n",
    "  deck = deck + hand\n",
    "  hand = []\n",
    "  return deck"
   ]
  },
  {
   "cell_type": "code",
   "execution_count": null,
   "metadata": {},
   "outputs": [],
   "source": [
    "print(\"deck\", deck)\n",
    "print(\"hand\", hand)\n",
    "deck = handToDeck()\n",
    "print(\"deck\", deck)\n",
    "print(\"hand\", hand)"
   ]
  }
 ],
 "metadata": {
  "kernelspec": {
   "display_name": "Python 3",
   "language": "python",
   "name": "python3"
  },
  "language_info": {
   "codemirror_mode": {
    "name": "ipython",
    "version": 3
   },
   "file_extension": ".py",
   "mimetype": "text/x-python",
   "name": "python",
   "nbconvert_exporter": "python",
   "pygments_lexer": "ipython3",
   "version": "3.12.2"
  }
 },
 "nbformat": 4,
 "nbformat_minor": 2
}
